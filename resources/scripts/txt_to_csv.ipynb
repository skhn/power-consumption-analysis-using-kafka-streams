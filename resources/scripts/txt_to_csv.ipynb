{
 "cells": [
  {
   "cell_type": "code",
   "execution_count": 1,
   "metadata": {},
   "outputs": [
    {
     "name": "stdout",
     "output_type": "stream",
     "text": [
      "Requirement already satisfied: pandas in ./anaconda3/lib/python3.8/site-packages (1.1.3)\n",
      "Requirement already satisfied: numpy>=1.15.4 in ./anaconda3/lib/python3.8/site-packages (from pandas) (1.19.2)\n",
      "Requirement already satisfied: pytz>=2017.2 in ./anaconda3/lib/python3.8/site-packages (from pandas) (2020.1)\n",
      "Requirement already satisfied: python-dateutil>=2.7.3 in ./anaconda3/lib/python3.8/site-packages (from pandas) (2.8.1)\n",
      "Requirement already satisfied: six>=1.5 in ./anaconda3/lib/python3.8/site-packages (from python-dateutil>=2.7.3->pandas) (1.15.0)\n",
      "Note: you may need to restart the kernel to use updated packages.\n"
     ]
    }
   ],
   "source": [
    "pip install pandas;\n"
   ]
  },
  {
   "cell_type": "code",
   "execution_count": 10,
   "metadata": {},
   "outputs": [],
   "source": [
    "import pandas as pd\n",
    "\n",
    "df = pd.read_csv ('household_power_consumption.txt',delimiter = ';')\n",
    "\n",
    "df.drop(index=df.index[-5000:], \n",
    "        axis=0, \n",
    "        inplace=True)\n",
    "\n",
    "globalmetrics = df[['Date', 'Time', 'Global_active_power', 'Global_reactive_power', 'Global_intensity']]\n",
    "submetrics1 = df[['Date', 'Time', 'Sub_metering_1']]\n",
    "submetrics2 = df[['Date', 'Time', 'Sub_metering_2']]\n",
    "submetrics3 = df[['Date', 'Time', 'Sub_metering_3']]\n",
    "voltage = df[['Date', 'Time', 'Voltage']]\n",
    "\n",
    "\n",
    "globalmetrics.to_csv ('household_power_consumption_g.csv', index=None)\n",
    "submetrics1.to_csv ('household_power_consumption_s1.csv', index=None)\n",
    "submetrics2.to_csv ('household_power_consumption_s2.csv', index=None)\n",
    "submetrics3.to_csv ('household_power_consumption_s3.csv', index=None)\n",
    "voltage.to_csv ('household_power_consumption_v.csv', index=None)"
   ]
  },
  {
   "cell_type": "code",
   "execution_count": null,
   "metadata": {},
   "outputs": [],
   "source": []
  }
 ],
 "metadata": {
  "kernelspec": {
   "display_name": "Python 3",
   "language": "python",
   "name": "python3"
  },
  "language_info": {
   "codemirror_mode": {
    "name": "ipython",
    "version": 3
   },
   "file_extension": ".py",
   "mimetype": "text/x-python",
   "name": "python",
   "nbconvert_exporter": "python",
   "pygments_lexer": "ipython3",
   "version": "3.8.5"
  }
 },
 "nbformat": 4,
 "nbformat_minor": 4
}
